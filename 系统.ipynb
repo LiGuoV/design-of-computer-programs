{
 "cells": [
  {
   "cell_type": "markdown",
   "id": "cf692631",
   "metadata": {},
   "source": [
    "- nohup 标准输出写入到... 错误重定向到标准输出  \n",
    "`nohup  [comand]  >/dev/null 2>&1 &`"
   ]
  },
  {
   "cell_type": "code",
   "execution_count": null,
   "id": "67d5e791",
   "metadata": {},
   "outputs": [],
   "source": []
  }
 ],
 "metadata": {
  "kernelspec": {
   "display_name": "Python 3 (ipykernel)",
   "language": "python",
   "name": "python3"
  },
  "language_info": {
   "codemirror_mode": {
    "name": "ipython",
    "version": 3
   },
   "file_extension": ".py",
   "mimetype": "text/x-python",
   "name": "python",
   "nbconvert_exporter": "python",
   "pygments_lexer": "ipython3",
   "version": "3.10.4"
  },
  "toc": {
   "base_numbering": 1,
   "nav_menu": {},
   "number_sections": true,
   "sideBar": true,
   "skip_h1_title": false,
   "title_cell": "Table of Contents",
   "title_sidebar": "Contents",
   "toc_cell": false,
   "toc_position": {},
   "toc_section_display": true,
   "toc_window_display": false
  }
 },
 "nbformat": 4,
 "nbformat_minor": 5
}
