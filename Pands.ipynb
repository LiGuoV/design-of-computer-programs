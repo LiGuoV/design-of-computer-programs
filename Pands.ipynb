{
 "cells": [
  {
   "cell_type": "markdown",
   "id": "f8ef4be0",
   "metadata": {},
   "source": [
    "# 索引\n",
    "- append 将额外的索引对象追加到原索引后，产生新的索引\n",
    "- difference 计算两个索引的差集\n",
    "- intersection 交集\n",
    "- union 计算两个索引的并集\n",
    "- isin 计算表示每一个值是否在传值容器中的布尔数组\n",
    "- delete 将位置i的元素删除,并产生新的索引\n",
    "- drop 根据传参删除指定索引值,并产生新的索引\n",
    "- insert 在位置i插入元素,并产生新的索引\n",
    "- is_monotonic 如果索引序列递增则返回True\n",
    "- is_unique 如果索引序列唯一则返回True\n",
    "- unique 计算索引的唯一值序列\n",
    "- `remove_unused_levels` 清洗NaN\n",
    "\n",
    "# 时间\n",
    "- 时区 \n",
    "    - `DatetimeIndex.dt.tz_convert('Asia/Shanghai') `\n",
    "    - `pd.Timestamp.now(tz='Asia/Shanghai')`\n",
    "- 精度,取整 `now.floor('H')` [min, H, D...]\n",
    "\n",
    "- 偏移 years,months,weeks days hours minutes seconds\n",
    "    - `now - pd.DateOffset(months=1)`\n"
   ]
  },
  {
   "cell_type": "code",
   "execution_count": null,
   "id": "b7ed563c",
   "metadata": {},
   "outputs": [],
   "source": []
  }
 ],
 "metadata": {
  "kernelspec": {
   "display_name": "Python 3 (ipykernel)",
   "language": "python",
   "name": "python3"
  },
  "language_info": {
   "codemirror_mode": {
    "name": "ipython",
    "version": 3
   },
   "file_extension": ".py",
   "mimetype": "text/x-python",
   "name": "python",
   "nbconvert_exporter": "python",
   "pygments_lexer": "ipython3",
   "version": "3.10.4"
  },
  "toc": {
   "base_numbering": 1,
   "nav_menu": {},
   "number_sections": true,
   "sideBar": true,
   "skip_h1_title": false,
   "title_cell": "Table of Contents",
   "title_sidebar": "Contents",
   "toc_cell": false,
   "toc_position": {},
   "toc_section_display": true,
   "toc_window_display": false
  }
 },
 "nbformat": 4,
 "nbformat_minor": 5
}
