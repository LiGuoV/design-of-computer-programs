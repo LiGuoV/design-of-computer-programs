{
 "cells": [
  {
   "cell_type": "code",
   "execution_count": 15,
   "id": "0100b212",
   "metadata": {
    "scrolled": true
   },
   "outputs": [
    {
     "data": {
      "text/plain": [
       "'Joe Biden2023-07-13'"
      ]
     },
     "execution_count": 15,
     "metadata": {},
     "output_type": "execute_result"
    }
   ],
   "source": [
    "def president_name():\n",
    "    return 'Joe Biden'\n",
    "\n",
    "def yesterday():\n",
    "    return str(datetime.today().date()-timedelta(days=1))\n",
    "\n",
    "president_name() + yesterday()"
   ]
  },
  {
   "cell_type": "code",
   "execution_count": null,
   "id": "0954b691",
   "metadata": {},
   "outputs": [],
   "source": [
    "Siri.president_name + Siri.yesterday"
   ]
  }
 ],
 "metadata": {
  "kernelspec": {
   "display_name": "Python 3 (ipykernel)",
   "language": "python",
   "name": "python3"
  },
  "language_info": {
   "codemirror_mode": {
    "name": "ipython",
    "version": 3
   },
   "file_extension": ".py",
   "mimetype": "text/x-python",
   "name": "python",
   "nbconvert_exporter": "python",
   "pygments_lexer": "ipython3",
   "version": "3.10.4"
  },
  "toc": {
   "base_numbering": 1,
   "nav_menu": {},
   "number_sections": true,
   "sideBar": true,
   "skip_h1_title": false,
   "title_cell": "Table of Contents",
   "title_sidebar": "Contents",
   "toc_cell": false,
   "toc_position": {},
   "toc_section_display": true,
   "toc_window_display": false
  }
 },
 "nbformat": 4,
 "nbformat_minor": 5
}
