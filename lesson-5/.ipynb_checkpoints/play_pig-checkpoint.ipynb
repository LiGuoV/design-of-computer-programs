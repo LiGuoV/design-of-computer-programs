{
 "cells": [
  {
   "cell_type": "markdown",
   "id": "ecbdf36c",
   "metadata": {},
   "source": [
    "# simulation模拟 vs enumeration 枚举"
   ]
  },
  {
   "cell_type": "code",
   "execution_count": 34,
   "id": "c6cdcc89",
   "metadata": {},
   "outputs": [],
   "source": [
    "import itertools\n",
    "from fractions import Fraction"
   ]
  },
  {
   "cell_type": "code",
   "execution_count": 118,
   "id": "27d02b4d",
   "metadata": {},
   "outputs": [],
   "source": [
    "sex='GB'\n",
    "def product(*variables):\n",
    "    return map(''.join,itertools.product(*variables))\n",
    "\n",
    "two_kids = product(sex,sex)"
   ]
  },
  {
   "cell_type": "code",
   "execution_count": 119,
   "id": "9b104aa0",
   "metadata": {},
   "outputs": [],
   "source": [
    "one_boy = [s for s in two_kids if 'B' in s]\n",
    "def two_boys(s):return s.count('B') == 2"
   ]
  },
  {
   "cell_type": "code",
   "execution_count": 120,
   "id": "d41d7d84",
   "metadata": {},
   "outputs": [],
   "source": [
    "def condP(predicate,event):\n",
    "    pred = [s for s in event if predicate(s)]\n",
    "    return Fraction(len(pred))/Fraction(len(event))"
   ]
  },
  {
   "cell_type": "code",
   "execution_count": 116,
   "id": "0efa5c98",
   "metadata": {},
   "outputs": [
    {
     "data": {
      "text/plain": [
       "Fraction(1, 3)"
      ]
     },
     "execution_count": 116,
     "metadata": {},
     "output_type": "execute_result"
    }
   ],
   "source": [
    "condP(two_boys,one_boy)"
   ]
  },
  {
   "cell_type": "code",
   "execution_count": 122,
   "id": "bc787a60",
   "metadata": {},
   "outputs": [
    {
     "data": {
      "text/plain": [
       "Fraction(13, 27)"
      ]
     },
     "execution_count": 122,
     "metadata": {},
     "output_type": "execute_result"
    }
   ],
   "source": [
    "days = '1234567'\n",
    "two_kids_birthday = product(sex,days,sex,days)\n",
    "boy_tuesday = [s for s in two_kids_birthday if 'B2' in s]\n",
    "condP(two_boys,boy_tuesday)"
   ]
  },
  {
   "cell_type": "code",
   "execution_count": null,
   "id": "b7ae9481",
   "metadata": {},
   "outputs": [],
   "source": []
  }
 ],
 "metadata": {
  "kernelspec": {
   "display_name": "Python 3 (ipykernel)",
   "language": "python",
   "name": "python3"
  },
  "language_info": {
   "codemirror_mode": {
    "name": "ipython",
    "version": 3
   },
   "file_extension": ".py",
   "mimetype": "text/x-python",
   "name": "python",
   "nbconvert_exporter": "python",
   "pygments_lexer": "ipython3",
   "version": "3.10.4"
  },
  "toc": {
   "base_numbering": 1,
   "nav_menu": {},
   "number_sections": true,
   "sideBar": true,
   "skip_h1_title": false,
   "title_cell": "Table of Contents",
   "title_sidebar": "Contents",
   "toc_cell": false,
   "toc_position": {},
   "toc_section_display": true,
   "toc_window_display": false
  }
 },
 "nbformat": 4,
 "nbformat_minor": 5
}
