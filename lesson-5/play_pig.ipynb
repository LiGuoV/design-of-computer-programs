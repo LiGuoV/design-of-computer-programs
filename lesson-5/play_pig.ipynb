{
 "cells": [
  {
   "cell_type": "markdown",
   "id": "964fe6c2",
   "metadata": {},
   "source": [
    "# simulation模拟 vs enumeration 枚举"
   ]
  },
  {
   "cell_type": "code",
   "execution_count": 34,
   "id": "63f8dfb5",
   "metadata": {},
   "outputs": [],
   "source": [
    "import itertools\n",
    "from fractions import Fraction"
   ]
  },
  {
   "cell_type": "code",
   "execution_count": 118,
   "id": "e7cfe13c",
   "metadata": {},
   "outputs": [],
   "source": [
    "sex='GB'\n",
    "def product(*variables):\n",
    "    return map(''.join,itertools.product(*variables))\n",
    "\n",
    "two_kids = product(sex,sex)"
   ]
  },
  {
   "cell_type": "code",
   "execution_count": 119,
   "id": "e7454b49",
   "metadata": {},
   "outputs": [],
   "source": [
    "one_boy = [s for s in two_kids if 'B' in s]\n",
    "def two_boys(s):return s.count('B') == 2"
   ]
  },
  {
   "cell_type": "code",
   "execution_count": 120,
   "id": "bc9e081c",
   "metadata": {},
   "outputs": [],
   "source": [
    "def condP(predicate,event):\n",
    "    pred = [s for s in event if predicate(s)]\n",
    "    return Fraction(len(pred))/Fraction(len(event))"
   ]
  },
  {
   "cell_type": "code",
   "execution_count": 116,
   "id": "80b615cf",
   "metadata": {},
   "outputs": [
    {
     "data": {
      "text/plain": [
       "Fraction(1, 3)"
      ]
     },
     "execution_count": 116,
     "metadata": {},
     "output_type": "execute_result"
    }
   ],
   "source": [
    "condP(two_boys,one_boy)"
   ]
  },
  {
   "cell_type": "code",
   "execution_count": 123,
   "id": "23ae2fac",
   "metadata": {},
   "outputs": [
    {
     "data": {
      "text/plain": [
       "Fraction(13, 27)"
      ]
     },
     "execution_count": 123,
     "metadata": {},
     "output_type": "execute_result"
    }
   ],
   "source": [
    "days = '1234567'\n",
    "two_kids_birthday = product(sex,days,sex,days)\n",
    "boy_tuesday = [s for s in two_kids_birthday if 'B2' in s]\n",
    "condP(two_boys,boy_tuesday)"
   ]
  },
  {
   "cell_type": "code",
   "execution_count": 131,
   "id": "bf6449bf",
   "metadata": {},
   "outputs": [
    {
     "data": {
      "text/plain": [
       "[\"('AB',)\", \"('12',)\", \"('AB',)\", \"('12',)\"]"
      ]
     },
     "execution_count": 131,
     "metadata": {},
     "output_type": "execute_result"
    }
   ],
   "source": [
    "list(\n",
    "    map(str,\n",
    "        itertools.product(['AB','12','AB','12'])))"
   ]
  },
  {
   "cell_type": "code",
   "execution_count": 132,
   "id": "dd499c19",
   "metadata": {},
   "outputs": [
    {
     "data": {
      "text/plain": [
       "[('AB',), ('12',), ('AB',), ('12',)]"
      ]
     },
     "execution_count": 132,
     "metadata": {},
     "output_type": "execute_result"
    }
   ],
   "source": [
    "list(itertools.product(['AB','12','AB','12']))"
   ]
  },
  {
   "cell_type": "code",
   "execution_count": null,
   "id": "5c7fbad0",
   "metadata": {},
   "outputs": [],
   "source": []
  }
 ],
 "metadata": {
  "kernelspec": {
   "display_name": "Python 3 (ipykernel)",
   "language": "python",
   "name": "python3"
  },
  "language_info": {
   "codemirror_mode": {
    "name": "ipython",
    "version": 3
   },
   "file_extension": ".py",
   "mimetype": "text/x-python",
   "name": "python",
   "nbconvert_exporter": "python",
   "pygments_lexer": "ipython3",
   "version": "3.10.4"
  },
  "toc": {
   "base_numbering": 1,
   "nav_menu": {},
   "number_sections": true,
   "sideBar": true,
   "skip_h1_title": false,
   "title_cell": "Table of Contents",
   "title_sidebar": "Contents",
   "toc_cell": false,
   "toc_position": {},
   "toc_section_display": true,
   "toc_window_display": false
  }
 },
 "nbformat": 4,
 "nbformat_minor": 5
}
